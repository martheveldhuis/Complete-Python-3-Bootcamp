{
 "cells": [
  {
   "cell_type": "code",
   "execution_count": 48,
   "id": "f21b9fc3",
   "metadata": {},
   "outputs": [],
   "source": [
    "def make_board() -> list:\n",
    "    board = []\n",
    "\n",
    "    for i in range(0, 3):\n",
    "        board.append([' ']*3)\n",
    "        \n",
    "    return board\n",
    "\n",
    "def display_board(board: list):\n",
    "    for row in board:\n",
    "        print(row)\n",
    "        \n",
    "def get_user_input(player: int) -> (int, int):\n",
    "    marker = None\n",
    "    if player == 1:\n",
    "        marker = 'X'\n",
    "    elif player == 2:\n",
    "        marker = 'O'\n",
    "    else:\n",
    "        print(\"This is not a valid player!\")\n",
    "    \n",
    "    print(f\"It is your turn Player {player}, where do you want to put your {marker}?\")\n",
    "    \n",
    "    input_row = None\n",
    "    input_column = None\n",
    "    while True:\n",
    "        try:\n",
    "            input_row = int(input(\"Specify your placement row (0-2): \"))\n",
    "            input_column = int(input(\"Specify your placement column (0-2): \"))\n",
    "            \n",
    "            if (not input_row in range(0, 3)) or (not input_column in range(0, 3)):\n",
    "                raise ValueError\n",
    "        except ValueError:\n",
    "            print(\"You did not enter a valid row and/or column number\")\n",
    "            continue\n",
    "        else:\n",
    "            break       \n",
    "    \n",
    "        \n",
    "    return (input_row, input_column)\n",
    "    "
   ]
  },
  {
   "cell_type": "code",
   "execution_count": 32,
   "id": "7cdadc8a",
   "metadata": {},
   "outputs": [
    {
     "name": "stdout",
     "output_type": "stream",
     "text": [
      "[' ', ' ', ' ']\n",
      "[' ', ' ', ' ']\n",
      "[' ', ' ', ' ']\n"
     ]
    }
   ],
   "source": [
    "board = make_board()\n",
    "display_board(board)"
   ]
  },
  {
   "cell_type": "code",
   "execution_count": 45,
   "id": "0c936e6f",
   "metadata": {},
   "outputs": [
    {
     "name": "stdout",
     "output_type": "stream",
     "text": [
      "It is your turn Player 2, where do you want to put your O?\n",
      "Specify your placement row (0-2): 1\n",
      "Specify your placement column (0-2): 2\n"
     ]
    }
   ],
   "source": [
    "val = get_user_input(2)"
   ]
  },
  {
   "cell_type": "code",
   "execution_count": 47,
   "id": "ea4b93f1",
   "metadata": {},
   "outputs": [
    {
     "data": {
      "text/plain": [
       "(1, 2)"
      ]
     },
     "execution_count": 47,
     "metadata": {},
     "output_type": "execute_result"
    }
   ],
   "source": [
    "val"
   ]
  },
  {
   "cell_type": "code",
   "execution_count": null,
   "id": "ff698c4b",
   "metadata": {},
   "outputs": [],
   "source": [
    "tic_tac_toe = False"
   ]
  }
 ],
 "metadata": {
  "kernelspec": {
   "display_name": "Python 3 (ipykernel)",
   "language": "python",
   "name": "python3"
  },
  "language_info": {
   "codemirror_mode": {
    "name": "ipython",
    "version": 3
   },
   "file_extension": ".py",
   "mimetype": "text/x-python",
   "name": "python",
   "nbconvert_exporter": "python",
   "pygments_lexer": "ipython3",
   "version": "3.9.7"
  }
 },
 "nbformat": 4,
 "nbformat_minor": 5
}
