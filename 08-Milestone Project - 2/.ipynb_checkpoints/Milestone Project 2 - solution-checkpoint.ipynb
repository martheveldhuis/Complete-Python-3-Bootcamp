{
 "cells": [
  {
   "cell_type": "code",
   "execution_count": null,
   "id": "2825f73e",
   "metadata": {},
   "outputs": [],
   "source": [
    "suits = ('Hearts', 'Diamonds', 'Spades', 'Clubs')\n",
    "ranks = ('Two', 'Three', 'Four', 'Five', 'Six', 'Seven', 'Eight', 'Nine', 'Ten', 'Jack', 'Queen', 'King', 'Ace')\n",
    "values = {'Two':2, 'Three':3, 'Four':4, 'Five':5, 'Six':6, 'Seven':7, 'Eight':8, \n",
    "            'Nine':9, 'Ten':10, 'Jack':10, 'Queen':10, 'King':10, 'Ace':1}"
   ]
  },
  {
   "cell_type": "code",
   "execution_count": 21,
   "id": "1a8880d6",
   "metadata": {},
   "outputs": [],
   "source": [
    "import random\n",
    "class Deck:\n",
    "    def __init__(self):\n",
    "        self.all_cards = [] \n",
    "        for suit in suits:\n",
    "            for rank in ranks:\n",
    "                self.all_cards.append(Card(suit,rank))\n",
    "                \n",
    "    def shuffle(self):\n",
    "        random.shuffle(self.all_cards)\n",
    "        \n",
    "    def deal_one(self):\n",
    "        return self.all_cards.pop()   "
   ]
  },
  {
   "cell_type": "code",
   "execution_count": 22,
   "id": "61579a03",
   "metadata": {},
   "outputs": [],
   "source": [
    "class Card:\n",
    "    def __init__(self,suit,rank):\n",
    "        self.suit = suit\n",
    "        self.rank = rank\n",
    "        self.value = values[rank]\n",
    "    \n",
    "    def __str__(self):\n",
    "        return self.value"
   ]
  },
  {
   "cell_type": "code",
   "execution_count": 28,
   "id": "a5a31c89",
   "metadata": {},
   "outputs": [],
   "source": [
    "class Dealer:\n",
    "    def __init__(self):\n",
    "        self.bankroll = 0\n",
    "        self.all_cards = []\n",
    "        self.hidden = 0\n",
    "        self.sum = 0\n",
    "        \n",
    "    def update_sum(self):\n",
    "        self.sum = sum(card.value for card in self.all_cards)\n",
    "        visible_sum = self.sum - self.all_cards[self.hidden].value\n",
    "        print(f\"Visible sum currently is {visible_sum}\")\n",
    "    \n",
    "    def add_card(self, new_card):\n",
    "        self.all_cards.append(new_card)\n",
    "        self.update_sum()"
   ]
  },
  {
   "cell_type": "code",
   "execution_count": 30,
   "id": "36af3649",
   "metadata": {},
   "outputs": [],
   "source": [
    "class Player:\n",
    "    def __init__(self, bankroll):\n",
    "        self.bankroll = bankroll\n",
    "        self.all_cards = []\n",
    "        self.sum = 0\n",
    "        \n",
    "    def update_sum(self):\n",
    "        # ace should be 1 or 10, idk which\n",
    "        current_sum = self.sum\n",
    "        self.sum = sum(card.value for card in self.all_cards)\n",
    "        \n",
    "        print(f\"Sum currently is {self.sum}\")\n",
    "        \n",
    "    def place_bet(self):\n",
    "        bet = None\n",
    "        while not bet or bet > self.bankroll:\n",
    "            try:\n",
    "                bet = int(input(\"Input your bet\"))\n",
    "            except:\n",
    "                print(\"invalid bet\")\n",
    "            else:\n",
    "                if bet > self.bankroll:\n",
    "                    print(\"You cannot bet more than you own\")\n",
    "                else:\n",
    "                    return bet\n",
    "    \n",
    "    def add_card(self, new_card):\n",
    "        self.all_cards.append(new_card)\n",
    "        self.update_sum()"
   ]
  },
  {
   "cell_type": "code",
   "execution_count": null,
   "id": "7ad4a221",
   "metadata": {},
   "outputs": [
    {
     "name": "stdout",
     "output_type": "stream",
     "text": [
      "Visible sum currently is 0\n",
      "Visible sum currently is 11\n",
      "Sum currently is 8\n",
      "Sum currently is 15\n",
      "start the game!\n",
      "Input your bet1\n",
      "the bet this round is 1\n",
      "Chose if you want to hit (1) or stay(2) 1\n",
      "Sum currently is 18\n",
      "Visible sum currently is 14\n",
      "Dealer sum is 22. Player has won!\n"
     ]
    }
   ],
   "source": [
    "playing = True\n",
    "while(playing):\n",
    "    deck = Deck()\n",
    "    deck.shuffle()\n",
    "    \n",
    "    dealer = Dealer()\n",
    "    dealer.add_card(deck.deal_one())\n",
    "    dealer.add_card(deck.deal_one())\n",
    "    \n",
    "    player = Player(bankroll = 100)\n",
    "    player.add_card(deck.deal_one())\n",
    "    player.add_card(deck.deal_one())\n",
    "    \n",
    "    print(\"start the game!\")\n",
    "    \n",
    "    round_playing = True\n",
    "    while(round_playing):\n",
    "        bet = player.place_bet()\n",
    "        \n",
    "        print(f\"the bet this round is {bet}\")\n",
    "        \n",
    "        player_action = None\n",
    "        while not player_action in (1, 2):\n",
    "            try:\n",
    "                player_action = int(input(\"Chose if you want to hit (1) or stay(2) \"))\n",
    "            except:\n",
    "                print(\"please input 1 or 2\")\n",
    "        \n",
    "        if player_action == 1:\n",
    "            player.add_card(deck.deal_one())\n",
    "        elif player_action == 2:\n",
    "            pass\n",
    "                \n",
    "        if player.sum < 21:\n",
    "            dealer.add_card(deck.deal_one())\n",
    "            if dealer.sum > 21:\n",
    "                player.bankroll =+ 2*bet\n",
    "                print(f\"Dealer sum is {dealer.sum}. Player has won!\")\n",
    "            elif dealer.sum > player.sum:\n",
    "                print(f\"Player sum is {player.sum}, dealer's is {dealer.sum} Dealer has won!\")\n",
    "        else:\n",
    "            player.bankroll -= bet\n",
    "            dealer.bankroll += bet\n",
    "            print(f\"Player sum is {player.sum}. Dealer has won!\")\n",
    "                \n",
    "        another_round = None\n",
    "        while not another_round in (1, 2):\n",
    "            another_round = int(input(\"Do you want to keep playing? press 1, else press 2 \"))\n",
    "        \n",
    "        if another_round == 2:\n",
    "            \n",
    "        \n",
    "    "
   ]
  },
  {
   "cell_type": "code",
   "execution_count": null,
   "id": "36313f53",
   "metadata": {},
   "outputs": [],
   "source": []
  }
 ],
 "metadata": {
  "kernelspec": {
   "display_name": "Python 3 (ipykernel)",
   "language": "python",
   "name": "python3"
  },
  "language_info": {
   "codemirror_mode": {
    "name": "ipython",
    "version": 3
   },
   "file_extension": ".py",
   "mimetype": "text/x-python",
   "name": "python",
   "nbconvert_exporter": "python",
   "pygments_lexer": "ipython3",
   "version": "3.9.7"
  }
 },
 "nbformat": 4,
 "nbformat_minor": 5
}
